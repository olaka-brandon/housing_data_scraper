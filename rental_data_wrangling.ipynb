{
 "cells": [
  {
   "cell_type": "code",
   "execution_count": 1,
   "metadata": {},
   "outputs": [],
   "source": [
    "# Import the required libraries\n",
    "import pandas as pd"
   ]
  },
  {
   "cell_type": "code",
   "execution_count": 12,
   "metadata": {},
   "outputs": [
    {
     "data": {
      "text/html": [
       "<div>\n",
       "<style scoped>\n",
       "    .dataframe tbody tr th:only-of-type {\n",
       "        vertical-align: middle;\n",
       "    }\n",
       "\n",
       "    .dataframe tbody tr th {\n",
       "        vertical-align: top;\n",
       "    }\n",
       "\n",
       "    .dataframe thead th {\n",
       "        text-align: right;\n",
       "    }\n",
       "</style>\n",
       "<table border=\"1\" class=\"dataframe\">\n",
       "  <thead>\n",
       "    <tr style=\"text-align: right;\">\n",
       "      <th></th>\n",
       "      <th>title</th>\n",
       "      <th>price</th>\n",
       "      <th>location</th>\n",
       "      <th>bathrooms</th>\n",
       "      <th>bedrooms</th>\n",
       "      <th>size_msq</th>\n",
       "    </tr>\n",
       "  </thead>\n",
       "  <tbody>\n",
       "    <tr>\n",
       "      <th>0</th>\n",
       "      <td>4 Bedroom Apartment / Flat</td>\n",
       "      <td>KSh 350 000</td>\n",
       "      <td>Riverside Dr Nairobi, Riverside, Nairobi</td>\n",
       "      <td>4.0</td>\n",
       "      <td>4.0</td>\n",
       "      <td>NaN</td>\n",
       "    </tr>\n",
       "    <tr>\n",
       "      <th>1</th>\n",
       "      <td>2 Bedroom Apartment / Flat</td>\n",
       "      <td>KSh 150 000</td>\n",
       "      <td>Parklands Nairobi, Parklands, Nairobi</td>\n",
       "      <td>2.5</td>\n",
       "      <td>2.0</td>\n",
       "      <td>NaN</td>\n",
       "    </tr>\n",
       "    <tr>\n",
       "      <th>2</th>\n",
       "      <td>Commercial Property</td>\n",
       "      <td>KSh 315 000</td>\n",
       "      <td>Raphta Rd Muthangari, Westlands, Nairobi</td>\n",
       "      <td>NaN</td>\n",
       "      <td>NaN</td>\n",
       "      <td>420 m²</td>\n",
       "    </tr>\n",
       "    <tr>\n",
       "      <th>3</th>\n",
       "      <td>Apartment / Flat</td>\n",
       "      <td>KSh 26 000</td>\n",
       "      <td>Kileleshwa, Kileleshwa, Nairobi</td>\n",
       "      <td>NaN</td>\n",
       "      <td>NaN</td>\n",
       "      <td>NaN</td>\n",
       "    </tr>\n",
       "    <tr>\n",
       "      <th>4</th>\n",
       "      <td>1 Bedroom Apartment / Flat</td>\n",
       "      <td>KSh 180 000</td>\n",
       "      <td>Kilimani, Nairobi</td>\n",
       "      <td>1.0</td>\n",
       "      <td>1.0</td>\n",
       "      <td>NaN</td>\n",
       "    </tr>\n",
       "  </tbody>\n",
       "</table>\n",
       "</div>"
      ],
      "text/plain": [
       "                        title        price  \\\n",
       "0  4 Bedroom Apartment / Flat  KSh 350 000   \n",
       "1  2 Bedroom Apartment / Flat  KSh 150 000   \n",
       "2         Commercial Property  KSh 315 000   \n",
       "3            Apartment / Flat   KSh 26 000   \n",
       "4  1 Bedroom Apartment / Flat  KSh 180 000   \n",
       "\n",
       "                                   location bathrooms bedrooms size_msq  \n",
       "0  Riverside Dr Nairobi, Riverside, Nairobi       4.0      4.0      NaN  \n",
       "1     Parklands Nairobi, Parklands, Nairobi       2.5      2.0      NaN  \n",
       "2  Raphta Rd Muthangari, Westlands, Nairobi       NaN      NaN   420 m²  \n",
       "3           Kileleshwa, Kileleshwa, Nairobi       NaN      NaN      NaN  \n",
       "4                         Kilimani, Nairobi       1.0      1.0      NaN  "
      ]
     },
     "execution_count": 12,
     "metadata": {},
     "output_type": "execute_result"
    }
   ],
   "source": [
    "# Create pandas dataframe and query the dataset\n",
    "df = pd.read_csv('tmp/housing_data.csv', header=None)\n",
    "labels = ['title', 'price', 'location', 'bathrooms', 'bedrooms', 'size_msq']\n",
    "\n",
    "rentals_df = pd.DataFrame(df.values, columns=labels)\n",
    "rentals_df.head()"
   ]
  },
  {
   "cell_type": "code",
   "execution_count": 14,
   "metadata": {},
   "outputs": [
    {
     "data": {
      "text/plain": [
       "(242403, 6)"
      ]
     },
     "execution_count": 14,
     "metadata": {},
     "output_type": "execute_result"
    }
   ],
   "source": [
    "# Data exploration\n",
    "rentals_df.shape"
   ]
  },
  {
   "cell_type": "code",
   "execution_count": 16,
   "metadata": {},
   "outputs": [
    {
     "name": "stdout",
     "output_type": "stream",
     "text": [
      "<class 'pandas.core.frame.DataFrame'>\n",
      "RangeIndex: 242403 entries, 0 to 242402\n",
      "Data columns (total 6 columns):\n",
      " #   Column     Non-Null Count   Dtype \n",
      "---  ------     --------------   ----- \n",
      " 0   title      242403 non-null  object\n",
      " 1   price      242403 non-null  object\n",
      " 2   location   217439 non-null  object\n",
      " 3   bathrooms  225826 non-null  object\n",
      " 4   bedrooms   227241 non-null  object\n",
      " 5   size_msq   74025 non-null   object\n",
      "dtypes: object(6)\n",
      "memory usage: 11.1+ MB\n"
     ]
    }
   ],
   "source": [
    "rentals_df.info()"
   ]
  },
  {
   "cell_type": "code",
   "execution_count": 1,
   "metadata": {},
   "outputs": [
    {
     "ename": "NameError",
     "evalue": "name 'rentals_df' is not defined",
     "output_type": "error",
     "traceback": [
      "\u001b[0;31m---------------------------------------------------------------------------\u001b[0m",
      "\u001b[0;31mNameError\u001b[0m                                 Traceback (most recent call last)",
      "\u001b[1;32m/Users/olakabrandon/Documents/personal_projects/housing_data_scraper/rental_data_wrangling.ipynb Cell 5\u001b[0m line \u001b[0;36m1\n\u001b[0;32m----> <a href='vscode-notebook-cell:/Users/olakabrandon/Documents/personal_projects/housing_data_scraper/rental_data_wrangling.ipynb#W5sZmlsZQ%3D%3D?line=0'>1</a>\u001b[0m rentals_df[\u001b[39m'\u001b[39m\u001b[39msize_msq\u001b[39m\u001b[39m'\u001b[39m]\u001b[39m.\u001b[39munique()\n",
      "\u001b[0;31mNameError\u001b[0m: name 'rentals_df' is not defined"
     ]
    }
   ],
   "source": [
    "rentals_df['size_msq'].unique()"
   ]
  },
  {
   "cell_type": "code",
   "execution_count": null,
   "metadata": {},
   "outputs": [],
   "source": []
  }
 ],
 "metadata": {
  "kernelspec": {
   "display_name": "hse-env",
   "language": "python",
   "name": "python3"
  },
  "language_info": {
   "codemirror_mode": {
    "name": "ipython",
    "version": 3
   },
   "file_extension": ".py",
   "mimetype": "text/x-python",
   "name": "python",
   "nbconvert_exporter": "python",
   "pygments_lexer": "ipython3",
   "version": "3.9.6"
  }
 },
 "nbformat": 4,
 "nbformat_minor": 2
}
