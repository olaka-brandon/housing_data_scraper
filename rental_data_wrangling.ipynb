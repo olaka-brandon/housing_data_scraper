{
 "cells": [
  {
   "cell_type": "code",
   "execution_count": 1,
   "metadata": {},
   "outputs": [],
   "source": [
    "# Import the required libraries\n",
    "import pandas as pd\n",
    "import re"
   ]
  },
  {
   "cell_type": "code",
   "execution_count": 2,
   "metadata": {},
   "outputs": [
    {
     "data": {
      "text/html": [
       "<div>\n",
       "<style scoped>\n",
       "    .dataframe tbody tr th:only-of-type {\n",
       "        vertical-align: middle;\n",
       "    }\n",
       "\n",
       "    .dataframe tbody tr th {\n",
       "        vertical-align: top;\n",
       "    }\n",
       "\n",
       "    .dataframe thead th {\n",
       "        text-align: right;\n",
       "    }\n",
       "</style>\n",
       "<table border=\"1\" class=\"dataframe\">\n",
       "  <thead>\n",
       "    <tr style=\"text-align: right;\">\n",
       "      <th></th>\n",
       "      <th>title</th>\n",
       "      <th>price</th>\n",
       "      <th>location</th>\n",
       "      <th>bathrooms</th>\n",
       "      <th>bedrooms</th>\n",
       "      <th>size_msq</th>\n",
       "    </tr>\n",
       "  </thead>\n",
       "  <tbody>\n",
       "    <tr>\n",
       "      <th>0</th>\n",
       "      <td>4 Bedroom Apartment / Flat</td>\n",
       "      <td>KSh 350 000</td>\n",
       "      <td>Riverside Dr Nairobi, Riverside, Nairobi</td>\n",
       "      <td>4.0</td>\n",
       "      <td>4.0</td>\n",
       "      <td>NaN</td>\n",
       "    </tr>\n",
       "    <tr>\n",
       "      <th>1</th>\n",
       "      <td>2 Bedroom Apartment / Flat</td>\n",
       "      <td>KSh 150 000</td>\n",
       "      <td>Parklands Nairobi, Parklands, Nairobi</td>\n",
       "      <td>2.5</td>\n",
       "      <td>2.0</td>\n",
       "      <td>NaN</td>\n",
       "    </tr>\n",
       "    <tr>\n",
       "      <th>2</th>\n",
       "      <td>Commercial Property</td>\n",
       "      <td>KSh 315 000</td>\n",
       "      <td>Raphta Rd Muthangari, Westlands, Nairobi</td>\n",
       "      <td>NaN</td>\n",
       "      <td>NaN</td>\n",
       "      <td>420 m²</td>\n",
       "    </tr>\n",
       "    <tr>\n",
       "      <th>3</th>\n",
       "      <td>Apartment / Flat</td>\n",
       "      <td>KSh 26 000</td>\n",
       "      <td>Kileleshwa, Kileleshwa, Nairobi</td>\n",
       "      <td>NaN</td>\n",
       "      <td>NaN</td>\n",
       "      <td>NaN</td>\n",
       "    </tr>\n",
       "    <tr>\n",
       "      <th>4</th>\n",
       "      <td>1 Bedroom Apartment / Flat</td>\n",
       "      <td>KSh 180 000</td>\n",
       "      <td>Kilimani, Nairobi</td>\n",
       "      <td>1.0</td>\n",
       "      <td>1.0</td>\n",
       "      <td>NaN</td>\n",
       "    </tr>\n",
       "  </tbody>\n",
       "</table>\n",
       "</div>"
      ],
      "text/plain": [
       "                        title        price  \\\n",
       "0  4 Bedroom Apartment / Flat  KSh 350 000   \n",
       "1  2 Bedroom Apartment / Flat  KSh 150 000   \n",
       "2         Commercial Property  KSh 315 000   \n",
       "3            Apartment / Flat   KSh 26 000   \n",
       "4  1 Bedroom Apartment / Flat  KSh 180 000   \n",
       "\n",
       "                                   location bathrooms bedrooms size_msq  \n",
       "0  Riverside Dr Nairobi, Riverside, Nairobi       4.0      4.0      NaN  \n",
       "1     Parklands Nairobi, Parklands, Nairobi       2.5      2.0      NaN  \n",
       "2  Raphta Rd Muthangari, Westlands, Nairobi       NaN      NaN   420 m²  \n",
       "3           Kileleshwa, Kileleshwa, Nairobi       NaN      NaN      NaN  \n",
       "4                         Kilimani, Nairobi       1.0      1.0      NaN  "
      ]
     },
     "execution_count": 2,
     "metadata": {},
     "output_type": "execute_result"
    }
   ],
   "source": [
    "# Create pandas dataframe and query the dataset\n",
    "df = pd.read_csv('scraped_data.csv', header=None)\n",
    "labels = ['title', 'price', 'location', 'bathrooms', 'bedrooms', 'size_msq']\n",
    "\n",
    "rentals_df = pd.DataFrame(df.values, columns=labels)\n",
    "rentals_df.head()"
   ]
  },
  {
   "cell_type": "code",
   "execution_count": 3,
   "metadata": {},
   "outputs": [
    {
     "data": {
      "text/plain": [
       "(242403, 6)"
      ]
     },
     "execution_count": 3,
     "metadata": {},
     "output_type": "execute_result"
    }
   ],
   "source": [
    "# Data exploration\n",
    "rentals_df.shape"
   ]
  },
  {
   "cell_type": "code",
   "execution_count": 4,
   "metadata": {},
   "outputs": [
    {
     "name": "stdout",
     "output_type": "stream",
     "text": [
      "<class 'pandas.core.frame.DataFrame'>\n",
      "RangeIndex: 242403 entries, 0 to 242402\n",
      "Data columns (total 6 columns):\n",
      " #   Column     Non-Null Count   Dtype \n",
      "---  ------     --------------   ----- \n",
      " 0   title      242403 non-null  object\n",
      " 1   price      242403 non-null  object\n",
      " 2   location   217439 non-null  object\n",
      " 3   bathrooms  225826 non-null  object\n",
      " 4   bedrooms   227241 non-null  object\n",
      " 5   size_msq   74025 non-null   object\n",
      "dtypes: object(6)\n",
      "memory usage: 11.1+ MB\n"
     ]
    }
   ],
   "source": [
    "rentals_df.info()"
   ]
  },
  {
   "cell_type": "code",
   "execution_count": 5,
   "metadata": {},
   "outputs": [
    {
     "data": {
      "text/plain": [
       "title             0\n",
       "price             0\n",
       "location      24964\n",
       "bathrooms     16577\n",
       "bedrooms      15162\n",
       "size_msq     168378\n",
       "dtype: int64"
      ]
     },
     "execution_count": 5,
     "metadata": {},
     "output_type": "execute_result"
    }
   ],
   "source": [
    "# Get the number of null records\n",
    "rentals_df.isna().sum()"
   ]
  },
  {
   "cell_type": "code",
   "execution_count": 6,
   "metadata": {},
   "outputs": [
    {
     "data": {
      "text/html": [
       "<div>\n",
       "<style scoped>\n",
       "    .dataframe tbody tr th:only-of-type {\n",
       "        vertical-align: middle;\n",
       "    }\n",
       "\n",
       "    .dataframe tbody tr th {\n",
       "        vertical-align: top;\n",
       "    }\n",
       "\n",
       "    .dataframe thead th {\n",
       "        text-align: right;\n",
       "    }\n",
       "</style>\n",
       "<table border=\"1\" class=\"dataframe\">\n",
       "  <thead>\n",
       "    <tr style=\"text-align: right;\">\n",
       "      <th></th>\n",
       "      <th>title</th>\n",
       "      <th>price</th>\n",
       "      <th>location</th>\n",
       "      <th>bathrooms</th>\n",
       "      <th>bedrooms</th>\n",
       "    </tr>\n",
       "  </thead>\n",
       "  <tbody>\n",
       "    <tr>\n",
       "      <th>0</th>\n",
       "      <td>4 Bedroom Apartment / Flat</td>\n",
       "      <td>KSh 350 000</td>\n",
       "      <td>Riverside Dr Nairobi, Riverside, Nairobi</td>\n",
       "      <td>4.0</td>\n",
       "      <td>4.0</td>\n",
       "    </tr>\n",
       "    <tr>\n",
       "      <th>1</th>\n",
       "      <td>2 Bedroom Apartment / Flat</td>\n",
       "      <td>KSh 150 000</td>\n",
       "      <td>Parklands Nairobi, Parklands, Nairobi</td>\n",
       "      <td>2.5</td>\n",
       "      <td>2.0</td>\n",
       "    </tr>\n",
       "    <tr>\n",
       "      <th>2</th>\n",
       "      <td>Commercial Property</td>\n",
       "      <td>KSh 315 000</td>\n",
       "      <td>Raphta Rd Muthangari, Westlands, Nairobi</td>\n",
       "      <td>NaN</td>\n",
       "      <td>NaN</td>\n",
       "    </tr>\n",
       "  </tbody>\n",
       "</table>\n",
       "</div>"
      ],
      "text/plain": [
       "                        title        price  \\\n",
       "0  4 Bedroom Apartment / Flat  KSh 350 000   \n",
       "1  2 Bedroom Apartment / Flat  KSh 150 000   \n",
       "2         Commercial Property  KSh 315 000   \n",
       "\n",
       "                                   location bathrooms bedrooms  \n",
       "0  Riverside Dr Nairobi, Riverside, Nairobi       4.0      4.0  \n",
       "1     Parklands Nairobi, Parklands, Nairobi       2.5      2.0  \n",
       "2  Raphta Rd Muthangari, Westlands, Nairobi       NaN      NaN  "
      ]
     },
     "execution_count": 6,
     "metadata": {},
     "output_type": "execute_result"
    }
   ],
   "source": [
    "# Drop the 'size_msq' column and create a copy of the dataframe\n",
    "rentals_df_copy = rentals_df.drop(columns=['size_msq'])\n",
    "rentals_df_copy.head(3)"
   ]
  },
  {
   "cell_type": "code",
   "execution_count": 7,
   "metadata": {},
   "outputs": [
    {
     "data": {
      "text/plain": [
       "title            0\n",
       "price            0\n",
       "location     24964\n",
       "bathrooms    16577\n",
       "bedrooms     15162\n",
       "dtype: int64"
      ]
     },
     "execution_count": 7,
     "metadata": {},
     "output_type": "execute_result"
    }
   ],
   "source": [
    "rentals_df_copy.isna().sum()"
   ]
  },
  {
   "cell_type": "code",
   "execution_count": 8,
   "metadata": {},
   "outputs": [
    {
     "data": {
      "text/plain": [
       "title        0\n",
       "price        0\n",
       "location     0\n",
       "bathrooms    0\n",
       "bedrooms     0\n",
       "dtype: int64"
      ]
     },
     "execution_count": 8,
     "metadata": {},
     "output_type": "execute_result"
    }
   ],
   "source": [
    "# Separate rows with nulls from those without null values\n",
    "rows_with_nulls = rentals_df_copy[rentals_df_copy.isna().any(axis=1)]\n",
    "rows_without_nulls = rentals_df_copy[~rentals_df_copy.isna().any(axis=1)]\n",
    "\n",
    "rows_without_nulls.isna().sum()"
   ]
  },
  {
   "cell_type": "code",
   "execution_count": 9,
   "metadata": {},
   "outputs": [
    {
     "data": {
      "text/html": [
       "<div>\n",
       "<style scoped>\n",
       "    .dataframe tbody tr th:only-of-type {\n",
       "        vertical-align: middle;\n",
       "    }\n",
       "\n",
       "    .dataframe tbody tr th {\n",
       "        vertical-align: top;\n",
       "    }\n",
       "\n",
       "    .dataframe thead th {\n",
       "        text-align: right;\n",
       "    }\n",
       "</style>\n",
       "<table border=\"1\" class=\"dataframe\">\n",
       "  <thead>\n",
       "    <tr style=\"text-align: right;\">\n",
       "      <th></th>\n",
       "      <th>title</th>\n",
       "      <th>price</th>\n",
       "      <th>location</th>\n",
       "      <th>bathrooms</th>\n",
       "      <th>bedrooms</th>\n",
       "    </tr>\n",
       "  </thead>\n",
       "  <tbody>\n",
       "    <tr>\n",
       "      <th>0</th>\n",
       "      <td>4 Bedroom Apartment / Flat</td>\n",
       "      <td>KSh 350 000</td>\n",
       "      <td>Riverside Dr Nairobi, Riverside</td>\n",
       "      <td>4.0</td>\n",
       "      <td>4.0</td>\n",
       "    </tr>\n",
       "    <tr>\n",
       "      <th>1</th>\n",
       "      <td>2 Bedroom Apartment / Flat</td>\n",
       "      <td>KSh 150 000</td>\n",
       "      <td>Parklands Nairobi, Parklands</td>\n",
       "      <td>2.5</td>\n",
       "      <td>2.0</td>\n",
       "    </tr>\n",
       "    <tr>\n",
       "      <th>4</th>\n",
       "      <td>1 Bedroom Apartment / Flat</td>\n",
       "      <td>KSh 180 000</td>\n",
       "      <td>Kilimani</td>\n",
       "      <td>1.0</td>\n",
       "      <td>1.0</td>\n",
       "    </tr>\n",
       "    <tr>\n",
       "      <th>5</th>\n",
       "      <td>1 Bedroom Apartment / Flat</td>\n",
       "      <td>KSh 28 000</td>\n",
       "      <td>South C</td>\n",
       "      <td>1.0</td>\n",
       "      <td>1.0</td>\n",
       "    </tr>\n",
       "    <tr>\n",
       "      <th>6</th>\n",
       "      <td>5 Bedroom House</td>\n",
       "      <td>KSh 70 000</td>\n",
       "      <td>Quarry Road,  Viraj Area, Syokimau</td>\n",
       "      <td>5.0</td>\n",
       "      <td>5.0</td>\n",
       "    </tr>\n",
       "  </tbody>\n",
       "</table>\n",
       "</div>"
      ],
      "text/plain": [
       "                        title        price  \\\n",
       "0  4 Bedroom Apartment / Flat  KSh 350 000   \n",
       "1  2 Bedroom Apartment / Flat  KSh 150 000   \n",
       "4  1 Bedroom Apartment / Flat  KSh 180 000   \n",
       "5  1 Bedroom Apartment / Flat   KSh 28 000   \n",
       "6             5 Bedroom House   KSh 70 000   \n",
       "\n",
       "                             location bathrooms bedrooms  \n",
       "0     Riverside Dr Nairobi, Riverside       4.0      4.0  \n",
       "1        Parklands Nairobi, Parklands       2.5      2.0  \n",
       "4                            Kilimani       1.0      1.0  \n",
       "5                             South C       1.0      1.0  \n",
       "6  Quarry Road,  Viraj Area, Syokimau       5.0      5.0  "
      ]
     },
     "execution_count": 9,
     "metadata": {},
     "output_type": "execute_result"
    }
   ],
   "source": [
    "# Clean the location column to remove 'Nairobi'\n",
    "def drop_nairobi(location):\n",
    "    location.capitalize()\n",
    "    return location.replace(', Nairobi','')\n",
    "\n",
    "rows_without_nulls.loc[:,'location'] = rows_without_nulls['location'].apply(drop_nairobi)\n",
    "rows_without_nulls.head(5)"
   ]
  },
  {
   "cell_type": "code",
   "execution_count": 10,
   "metadata": {},
   "outputs": [
    {
     "data": {
      "text/html": [
       "<div>\n",
       "<style scoped>\n",
       "    .dataframe tbody tr th:only-of-type {\n",
       "        vertical-align: middle;\n",
       "    }\n",
       "\n",
       "    .dataframe tbody tr th {\n",
       "        vertical-align: top;\n",
       "    }\n",
       "\n",
       "    .dataframe thead th {\n",
       "        text-align: right;\n",
       "    }\n",
       "</style>\n",
       "<table border=\"1\" class=\"dataframe\">\n",
       "  <thead>\n",
       "    <tr style=\"text-align: right;\">\n",
       "      <th></th>\n",
       "      <th>title</th>\n",
       "      <th>price</th>\n",
       "      <th>location</th>\n",
       "      <th>bathrooms</th>\n",
       "      <th>bedrooms</th>\n",
       "    </tr>\n",
       "  </thead>\n",
       "  <tbody>\n",
       "    <tr>\n",
       "      <th>0</th>\n",
       "      <td>4 Bedroom Apartment / Flat</td>\n",
       "      <td>KSh 350 000</td>\n",
       "      <td>Riverside Dr Nairobi, Riverside</td>\n",
       "      <td>4.0</td>\n",
       "      <td>4.0</td>\n",
       "    </tr>\n",
       "    <tr>\n",
       "      <th>1</th>\n",
       "      <td>2 Bedroom Apartment / Flat</td>\n",
       "      <td>KSh 150 000</td>\n",
       "      <td>Parklands Nairobi, Parklands</td>\n",
       "      <td>2.5</td>\n",
       "      <td>2.0</td>\n",
       "    </tr>\n",
       "    <tr>\n",
       "      <th>4</th>\n",
       "      <td>1 Bedroom Apartment / Flat</td>\n",
       "      <td>KSh 180 000</td>\n",
       "      <td>Kilimani</td>\n",
       "      <td>1.0</td>\n",
       "      <td>1.0</td>\n",
       "    </tr>\n",
       "    <tr>\n",
       "      <th>5</th>\n",
       "      <td>1 Bedroom Apartment / Flat</td>\n",
       "      <td>KSh 28 000</td>\n",
       "      <td>South C</td>\n",
       "      <td>1.0</td>\n",
       "      <td>1.0</td>\n",
       "    </tr>\n",
       "    <tr>\n",
       "      <th>6</th>\n",
       "      <td>5 Bedroom House</td>\n",
       "      <td>KSh 70 000</td>\n",
       "      <td>Quarry Road,  Viraj Area, Syokimau</td>\n",
       "      <td>5.0</td>\n",
       "      <td>5.0</td>\n",
       "    </tr>\n",
       "  </tbody>\n",
       "</table>\n",
       "</div>"
      ],
      "text/plain": [
       "                        title        price  \\\n",
       "0  4 Bedroom Apartment / Flat  KSh 350 000   \n",
       "1  2 Bedroom Apartment / Flat  KSh 150 000   \n",
       "4  1 Bedroom Apartment / Flat  KSh 180 000   \n",
       "5  1 Bedroom Apartment / Flat   KSh 28 000   \n",
       "6             5 Bedroom House   KSh 70 000   \n",
       "\n",
       "                             location bathrooms bedrooms  \n",
       "0     Riverside Dr Nairobi, Riverside       4.0      4.0  \n",
       "1        Parklands Nairobi, Parklands       2.5      2.0  \n",
       "4                            Kilimani       1.0      1.0  \n",
       "5                             South C       1.0      1.0  \n",
       "6  Quarry Road,  Viraj Area, Syokimau       5.0      5.0  "
      ]
     },
     "execution_count": 10,
     "metadata": {},
     "output_type": "execute_result"
    }
   ],
   "source": [
    "# Clean the location column to drop addresses from the location\n",
    "def clean_location(location):\n",
    "    # Define the regex pattern\n",
    "    pattern = re.compile(r'\\b[A-Z0-9]{4,6}\\+[A-Z0-9]{2,6}\\b')\n",
    "    # Aplply the pattern to remove matching strings and strip extra spaces\n",
    "    return pattern.sub('', location).strip()\n",
    "\n",
    "rows_without_nulls.loc[:,'location'] = rows_without_nulls['location'].apply(clean_location)\n",
    "rows_without_nulls.head(5)"
   ]
  },
  {
   "cell_type": "code",
   "execution_count": 11,
   "metadata": {},
   "outputs": [
    {
     "name": "stdout",
     "output_type": "stream",
     "text": [
      "<class 'pandas.core.frame.DataFrame'>\n",
      "Index: 201570 entries, 0 to 242402\n",
      "Data columns (total 5 columns):\n",
      " #   Column     Non-Null Count   Dtype \n",
      "---  ------     --------------   ----- \n",
      " 0   title      201570 non-null  object\n",
      " 1   price      201570 non-null  object\n",
      " 2   location   201570 non-null  object\n",
      " 3   bathrooms  201570 non-null  object\n",
      " 4   bedrooms   201570 non-null  object\n",
      "dtypes: object(5)\n",
      "memory usage: 9.2+ MB\n"
     ]
    }
   ],
   "source": [
    "# Remove the remaining entries with + in them\n",
    "rows_without_nulls = rows_without_nulls[~rows_without_nulls['location'].str.contains('\\+', case=False, na=False)]\n",
    "rows_without_nulls.info()"
   ]
  },
  {
   "cell_type": "code",
   "execution_count": 12,
   "metadata": {},
   "outputs": [
    {
     "name": "stdout",
     "output_type": "stream",
     "text": [
      "<class 'pandas.core.frame.DataFrame'>\n",
      "Index: 201552 entries, 0 to 242402\n",
      "Data columns (total 5 columns):\n",
      " #   Column     Non-Null Count   Dtype \n",
      "---  ------     --------------   ----- \n",
      " 0   title      201552 non-null  object\n",
      " 1   price      201552 non-null  object\n",
      " 2   location   201552 non-null  object\n",
      " 3   bathrooms  201552 non-null  object\n",
      " 4   bedrooms   201552 non-null  object\n",
      "dtypes: object(5)\n",
      "memory usage: 9.2+ MB\n"
     ]
    }
   ],
   "source": [
    "# Remove entries with https:// in their location\n",
    "rows_without_nulls = rows_without_nulls[~rows_without_nulls['location'].str.contains('https', case=False, na=False)]\n",
    "rows_without_nulls.info()"
   ]
  },
  {
   "cell_type": "code",
   "execution_count": 14,
   "metadata": {},
   "outputs": [
    {
     "name": "stdout",
     "output_type": "stream",
     "text": [
      "<class 'pandas.core.frame.DataFrame'>\n",
      "Index: 201552 entries, 0 to 242402\n",
      "Data columns (total 5 columns):\n",
      " #   Column     Non-Null Count   Dtype \n",
      "---  ------     --------------   ----- \n",
      " 0   title      201552 non-null  object\n",
      " 1   price      201552 non-null  object\n",
      " 2   location   201552 non-null  object\n",
      " 3   bathrooms  201552 non-null  int64 \n",
      " 4   bedrooms   201552 non-null  int64 \n",
      "dtypes: int64(2), object(3)\n",
      "memory usage: 9.2+ MB\n"
     ]
    }
   ],
   "source": [
    "# Convert the bedroom and bathroom columns to integers\n",
    "rows_without_nulls['bathrooms'] = rows_without_nulls['bathrooms'].astype(int)\n",
    "rows_without_nulls['bedrooms'] = rows_without_nulls['bedrooms'].astype(int)\n",
    "\n",
    "rows_without_nulls.info()"
   ]
  },
  {
   "cell_type": "code",
   "execution_count": 15,
   "metadata": {},
   "outputs": [
    {
     "name": "stdout",
     "output_type": "stream",
     "text": [
      "<class 'pandas.core.frame.DataFrame'>\n",
      "Index: 201472 entries, 0 to 242402\n",
      "Data columns (total 5 columns):\n",
      " #   Column     Non-Null Count   Dtype \n",
      "---  ------     --------------   ----- \n",
      " 0   title      201472 non-null  object\n",
      " 1   price      201472 non-null  object\n",
      " 2   location   201472 non-null  object\n",
      " 3   bathrooms  201472 non-null  int64 \n",
      " 4   bedrooms   201472 non-null  int64 \n",
      "dtypes: int64(2), object(3)\n",
      "memory usage: 9.2+ MB\n"
     ]
    }
   ],
   "source": [
    "# Remove records with 'POA' i.e. price on asking\n",
    "rows_without_nulls = rows_without_nulls[~rows_without_nulls['price'].str.contains('POA', case=False, na=False)]\n",
    "rows_without_nulls.info()"
   ]
  },
  {
   "cell_type": "code",
   "execution_count": 16,
   "metadata": {},
   "outputs": [
    {
     "data": {
      "text/html": [
       "<div>\n",
       "<style scoped>\n",
       "    .dataframe tbody tr th:only-of-type {\n",
       "        vertical-align: middle;\n",
       "    }\n",
       "\n",
       "    .dataframe tbody tr th {\n",
       "        vertical-align: top;\n",
       "    }\n",
       "\n",
       "    .dataframe thead th {\n",
       "        text-align: right;\n",
       "    }\n",
       "</style>\n",
       "<table border=\"1\" class=\"dataframe\">\n",
       "  <thead>\n",
       "    <tr style=\"text-align: right;\">\n",
       "      <th></th>\n",
       "      <th>title</th>\n",
       "      <th>price</th>\n",
       "      <th>location</th>\n",
       "      <th>bathrooms</th>\n",
       "      <th>bedrooms</th>\n",
       "    </tr>\n",
       "  </thead>\n",
       "  <tbody>\n",
       "    <tr>\n",
       "      <th>0</th>\n",
       "      <td>4 Bedroom Apartment / Flat</td>\n",
       "      <td>350000</td>\n",
       "      <td>Riverside Dr Nairobi, Riverside</td>\n",
       "      <td>4</td>\n",
       "      <td>4</td>\n",
       "    </tr>\n",
       "    <tr>\n",
       "      <th>1</th>\n",
       "      <td>2 Bedroom Apartment / Flat</td>\n",
       "      <td>150000</td>\n",
       "      <td>Parklands Nairobi, Parklands</td>\n",
       "      <td>2</td>\n",
       "      <td>2</td>\n",
       "    </tr>\n",
       "    <tr>\n",
       "      <th>4</th>\n",
       "      <td>1 Bedroom Apartment / Flat</td>\n",
       "      <td>180000</td>\n",
       "      <td>Kilimani</td>\n",
       "      <td>1</td>\n",
       "      <td>1</td>\n",
       "    </tr>\n",
       "    <tr>\n",
       "      <th>5</th>\n",
       "      <td>1 Bedroom Apartment / Flat</td>\n",
       "      <td>28000</td>\n",
       "      <td>South C</td>\n",
       "      <td>1</td>\n",
       "      <td>1</td>\n",
       "    </tr>\n",
       "    <tr>\n",
       "      <th>6</th>\n",
       "      <td>5 Bedroom House</td>\n",
       "      <td>70000</td>\n",
       "      <td>Quarry Road,  Viraj Area, Syokimau</td>\n",
       "      <td>5</td>\n",
       "      <td>5</td>\n",
       "    </tr>\n",
       "  </tbody>\n",
       "</table>\n",
       "</div>"
      ],
      "text/plain": [
       "                        title   price                            location  \\\n",
       "0  4 Bedroom Apartment / Flat  350000     Riverside Dr Nairobi, Riverside   \n",
       "1  2 Bedroom Apartment / Flat  150000        Parklands Nairobi, Parklands   \n",
       "4  1 Bedroom Apartment / Flat  180000                            Kilimani   \n",
       "5  1 Bedroom Apartment / Flat   28000                             South C   \n",
       "6             5 Bedroom House   70000  Quarry Road,  Viraj Area, Syokimau   \n",
       "\n",
       "   bathrooms  bedrooms  \n",
       "0          4         4  \n",
       "1          2         2  \n",
       "4          1         1  \n",
       "5          1         1  \n",
       "6          5         5  "
      ]
     },
     "execution_count": 16,
     "metadata": {},
     "output_type": "execute_result"
    }
   ],
   "source": [
    "# Clean the price column\n",
    "def clean_price(price):\n",
    "    clean_price = price.replace('KSh', '').replace(',', '').replace(' ', '').strip()\n",
    "    # Check if the record contains 'perday'\n",
    "    if 'perday' in clean_price:\n",
    "        numeric_part = re.findall(r'\\d+', clean_price)\n",
    "        if numeric_part:\n",
    "            numeric_value = int(numeric_part[0])\n",
    "            return numeric_value * 30 # Multiply by 30 if 'perday' is found\n",
    "        else:\n",
    "            return None\n",
    "    elif 'perweek' in clean_price:\n",
    "        numeric_part = re.findall(r'\\d+', clean_price)\n",
    "        if numeric_part:\n",
    "            numeric_value = int(numeric_part[0])\n",
    "            return numeric_value * 4 # Multiply by 4 if 'perweek' is found\n",
    "        else:\n",
    "            return None\n",
    "    else:\n",
    "        return clean_price\n",
    "\n",
    "rows_without_nulls.loc[:,'price'] = rows_without_nulls['price'].apply(clean_price)\n",
    "rows_without_nulls.head(5)"
   ]
  },
  {
   "cell_type": "code",
   "execution_count": 17,
   "metadata": {},
   "outputs": [
    {
     "data": {
      "text/plain": [
       "3"
      ]
     },
     "execution_count": 17,
     "metadata": {},
     "output_type": "execute_result"
    }
   ],
   "source": [
    "rows_without_nulls['price'].str.contains('peryear').sum()"
   ]
  },
  {
   "cell_type": "code",
   "execution_count": 18,
   "metadata": {},
   "outputs": [
    {
     "name": "stdout",
     "output_type": "stream",
     "text": [
      "<class 'pandas.core.frame.DataFrame'>\n",
      "Index: 201462 entries, 0 to 242402\n",
      "Data columns (total 5 columns):\n",
      " #   Column     Non-Null Count   Dtype \n",
      "---  ------     --------------   ----- \n",
      " 0   title      201462 non-null  object\n",
      " 1   price      201462 non-null  object\n",
      " 2   location   201462 non-null  object\n",
      " 3   bathrooms  201462 non-null  int64 \n",
      " 4   bedrooms   201462 non-null  int64 \n",
      "dtypes: int64(2), object(3)\n",
      "memory usage: 9.2+ MB\n"
     ]
    }
   ],
   "source": [
    "# Remove records with 'perm²' i.e. per meter squared & 'per year'\n",
    "rows_without_nulls = rows_without_nulls[~rows_without_nulls['price'].str.contains('perm²', case=False, na=False)]\n",
    "rows_without_nulls = rows_without_nulls[~rows_without_nulls['price'].str.contains('peryear', case=False, na=False)]\n",
    "rows_without_nulls.info()"
   ]
  },
  {
   "cell_type": "code",
   "execution_count": 19,
   "metadata": {},
   "outputs": [
    {
     "name": "stdout",
     "output_type": "stream",
     "text": [
      "<class 'pandas.core.frame.DataFrame'>\n",
      "Index: 201462 entries, 0 to 242402\n",
      "Data columns (total 5 columns):\n",
      " #   Column     Non-Null Count   Dtype \n",
      "---  ------     --------------   ----- \n",
      " 0   title      201462 non-null  object\n",
      " 1   price      201462 non-null  int64 \n",
      " 2   location   201462 non-null  object\n",
      " 3   bathrooms  201462 non-null  int64 \n",
      " 4   bedrooms   201462 non-null  int64 \n",
      "dtypes: int64(3), object(2)\n",
      "memory usage: 9.2+ MB\n"
     ]
    }
   ],
   "source": [
    "# Convert the price column into integer\n",
    "rows_without_nulls['price'] = rows_without_nulls['price'].astype(int)\n",
    "rows_without_nulls.info()"
   ]
  },
  {
   "cell_type": "code",
   "execution_count": 20,
   "metadata": {},
   "outputs": [
    {
     "data": {
      "text/html": [
       "<div>\n",
       "<style scoped>\n",
       "    .dataframe tbody tr th:only-of-type {\n",
       "        vertical-align: middle;\n",
       "    }\n",
       "\n",
       "    .dataframe tbody tr th {\n",
       "        vertical-align: top;\n",
       "    }\n",
       "\n",
       "    .dataframe thead th {\n",
       "        text-align: right;\n",
       "    }\n",
       "</style>\n",
       "<table border=\"1\" class=\"dataframe\">\n",
       "  <thead>\n",
       "    <tr style=\"text-align: right;\">\n",
       "      <th></th>\n",
       "      <th>title</th>\n",
       "      <th>price</th>\n",
       "      <th>location</th>\n",
       "      <th>bathrooms</th>\n",
       "      <th>bedrooms</th>\n",
       "    </tr>\n",
       "  </thead>\n",
       "  <tbody>\n",
       "    <tr>\n",
       "      <th>0</th>\n",
       "      <td>4 Bedroom Apartment Flat</td>\n",
       "      <td>350000</td>\n",
       "      <td>Riverside Dr Nairobi, Riverside</td>\n",
       "      <td>4</td>\n",
       "      <td>4</td>\n",
       "    </tr>\n",
       "    <tr>\n",
       "      <th>1</th>\n",
       "      <td>2 Bedroom Apartment Flat</td>\n",
       "      <td>150000</td>\n",
       "      <td>Parklands Nairobi, Parklands</td>\n",
       "      <td>2</td>\n",
       "      <td>2</td>\n",
       "    </tr>\n",
       "    <tr>\n",
       "      <th>4</th>\n",
       "      <td>1 Bedroom Apartment Flat</td>\n",
       "      <td>180000</td>\n",
       "      <td>Kilimani</td>\n",
       "      <td>1</td>\n",
       "      <td>1</td>\n",
       "    </tr>\n",
       "    <tr>\n",
       "      <th>5</th>\n",
       "      <td>1 Bedroom Apartment Flat</td>\n",
       "      <td>28000</td>\n",
       "      <td>South C</td>\n",
       "      <td>1</td>\n",
       "      <td>1</td>\n",
       "    </tr>\n",
       "    <tr>\n",
       "      <th>6</th>\n",
       "      <td>5 Bedroom House</td>\n",
       "      <td>70000</td>\n",
       "      <td>Quarry Road,  Viraj Area, Syokimau</td>\n",
       "      <td>5</td>\n",
       "      <td>5</td>\n",
       "    </tr>\n",
       "  </tbody>\n",
       "</table>\n",
       "</div>"
      ],
      "text/plain": [
       "                      title   price                            location  \\\n",
       "0  4 Bedroom Apartment Flat  350000     Riverside Dr Nairobi, Riverside   \n",
       "1  2 Bedroom Apartment Flat  150000        Parklands Nairobi, Parklands   \n",
       "4  1 Bedroom Apartment Flat  180000                            Kilimani   \n",
       "5  1 Bedroom Apartment Flat   28000                             South C   \n",
       "6           5 Bedroom House   70000  Quarry Road,  Viraj Area, Syokimau   \n",
       "\n",
       "   bathrooms  bedrooms  \n",
       "0          4         4  \n",
       "1          2         2  \n",
       "4          1         1  \n",
       "5          1         1  \n",
       "6          5         5  "
      ]
     },
     "execution_count": 20,
     "metadata": {},
     "output_type": "execute_result"
    }
   ],
   "source": [
    "# Clean the titles column\n",
    "def clean_title(title):\n",
    "    return title.replace('/ ','').strip()\n",
    "\n",
    "rows_without_nulls.loc[:,'title'] = rows_without_nulls['title'].apply(clean_title)\n",
    "rows_without_nulls.head(5)"
   ]
  },
  {
   "cell_type": "code",
   "execution_count": 21,
   "metadata": {},
   "outputs": [],
   "source": [
    "# Reset the index of the dataframes\n",
    "rows_without_nulls.reset_index(drop=True, inplace=True)\n"
   ]
  },
  {
   "cell_type": "code",
   "execution_count": 22,
   "metadata": {},
   "outputs": [
    {
     "name": "stdout",
     "output_type": "stream",
     "text": [
      "<class 'pandas.core.frame.DataFrame'>\n",
      "Index: 70235 entries, 0 to 201460\n",
      "Data columns (total 5 columns):\n",
      " #   Column     Non-Null Count  Dtype \n",
      "---  ------     --------------  ----- \n",
      " 0   title      70235 non-null  object\n",
      " 1   price      70235 non-null  int64 \n",
      " 2   location   70235 non-null  object\n",
      " 3   bathrooms  70235 non-null  int64 \n",
      " 4   bedrooms   70235 non-null  int64 \n",
      "dtypes: int64(3), object(2)\n",
      "memory usage: 3.2+ MB\n"
     ]
    }
   ],
   "source": [
    "# Drop any duplicates in the dataset\n",
    "final_rental_data = rows_without_nulls.drop_duplicates()\n",
    "final_rental_data.info()"
   ]
  },
  {
   "cell_type": "code",
   "execution_count": 24,
   "metadata": {},
   "outputs": [
    {
     "name": "stdout",
     "output_type": "stream",
     "text": [
      "CSV file saved successfully.\n"
     ]
    }
   ],
   "source": [
    "# Write the rental dataframe into a csv file\n",
    "final_rental_data.to_csv('data/final_rental_records.csv', index=False)\n",
    "print(\"CSV file saved successfully.\")"
   ]
  }
 ],
 "metadata": {
  "kernelspec": {
   "display_name": "hse-env",
   "language": "python",
   "name": "python3"
  },
  "language_info": {
   "codemirror_mode": {
    "name": "ipython",
    "version": 3
   },
   "file_extension": ".py",
   "mimetype": "text/x-python",
   "name": "python",
   "nbconvert_exporter": "python",
   "pygments_lexer": "ipython3",
   "version": "3.9.6"
  }
 },
 "nbformat": 4,
 "nbformat_minor": 2
}
